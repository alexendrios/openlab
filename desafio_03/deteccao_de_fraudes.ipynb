{
 "cells": [
  {
   "cell_type": "markdown",
   "metadata": {},
   "source": [
    "### Este tem como objetivo principal carregar dados de um arquivo CSV, armazená-los em um banco de dados MongoDB, pré-processar os dados e usar SOMs para identificar padrões e possíveis casos suspeitos de inadimplência"
   ]
  },
  {
   "cell_type": "code",
   "execution_count": 2,
   "metadata": {},
   "outputs": [],
   "source": [
    "# imports\n",
    "from minisom import MiniSom\n",
    "import pandas as pd\n",
    "import numpy as np\n",
    "from pylab import pcolor, colorbar, plot\n",
    "from pymongo import MongoClient\n",
    "from sklearn.preprocessing import MinMaxScaler\n",
    "import plotly.express as px\n",
    "import matplotlib.pyplot as plt\n",
    "import seaborn as sns\n",
    "import dash\n",
    "import dash_core_components as dcc\n",
    "import dash_html_components as html\n",
    "import plotly.express as px\n",
    "\n",
    "import warnings\n",
    "\n",
    "# Suprimir todos os warnings\n",
    "warnings.filterwarnings('ignore')\n",
    "warnings.filterwarnings('ignore', category=DeprecationWarning)"
   ]
  },
  {
   "cell_type": "markdown",
   "metadata": {},
   "source": [
    "## Carregamento do CSV\n",
    "\n",
    "- Carrega o arquivo CSV utilizando as bibliotecas apropriadas.\n",
    "- Realiza uma análise inicial da estrutura dos dados com os seguintes métodos:\n",
    "  - `head()`: Exibe as primeiras linhas do DataFrame.\n",
    "  - `info()`: Mostra um resumo da estrutura do DataFrame.\n",
    "  - `describe()`: Fornece estatísticas descritivas das colunas numéricas.\n"
   ]
  },
  {
   "cell_type": "code",
   "execution_count": 3,
   "metadata": {},
   "outputs": [],
   "source": [
    "# Carregando os Dados\n",
    "base = pd.read_csv('./data/credit_data.csv')"
   ]
  },
  {
   "cell_type": "code",
   "execution_count": 4,
   "metadata": {},
   "outputs": [
    {
     "data": {
      "text/html": [
       "<div>\n",
       "<style scoped>\n",
       "    .dataframe tbody tr th:only-of-type {\n",
       "        vertical-align: middle;\n",
       "    }\n",
       "\n",
       "    .dataframe tbody tr th {\n",
       "        vertical-align: top;\n",
       "    }\n",
       "\n",
       "    .dataframe thead th {\n",
       "        text-align: right;\n",
       "    }\n",
       "</style>\n",
       "<table border=\"1\" class=\"dataframe\">\n",
       "  <thead>\n",
       "    <tr style=\"text-align: right;\">\n",
       "      <th></th>\n",
       "      <th>clientid</th>\n",
       "      <th>income</th>\n",
       "      <th>age</th>\n",
       "      <th>loan</th>\n",
       "      <th>default</th>\n",
       "    </tr>\n",
       "  </thead>\n",
       "  <tbody>\n",
       "    <tr>\n",
       "      <th>0</th>\n",
       "      <td>1</td>\n",
       "      <td>66155.925095</td>\n",
       "      <td>59.017015</td>\n",
       "      <td>8106.532131</td>\n",
       "      <td>0</td>\n",
       "    </tr>\n",
       "    <tr>\n",
       "      <th>1</th>\n",
       "      <td>2</td>\n",
       "      <td>34415.153966</td>\n",
       "      <td>48.117153</td>\n",
       "      <td>6564.745018</td>\n",
       "      <td>0</td>\n",
       "    </tr>\n",
       "    <tr>\n",
       "      <th>2</th>\n",
       "      <td>3</td>\n",
       "      <td>57317.170063</td>\n",
       "      <td>63.108049</td>\n",
       "      <td>8020.953296</td>\n",
       "      <td>0</td>\n",
       "    </tr>\n",
       "    <tr>\n",
       "      <th>3</th>\n",
       "      <td>4</td>\n",
       "      <td>42709.534201</td>\n",
       "      <td>45.751972</td>\n",
       "      <td>6103.642260</td>\n",
       "      <td>0</td>\n",
       "    </tr>\n",
       "    <tr>\n",
       "      <th>4</th>\n",
       "      <td>5</td>\n",
       "      <td>66952.688845</td>\n",
       "      <td>18.584336</td>\n",
       "      <td>8770.099235</td>\n",
       "      <td>1</td>\n",
       "    </tr>\n",
       "  </tbody>\n",
       "</table>\n",
       "</div>"
      ],
      "text/plain": [
       "   clientid        income        age         loan  default\n",
       "0         1  66155.925095  59.017015  8106.532131        0\n",
       "1         2  34415.153966  48.117153  6564.745018        0\n",
       "2         3  57317.170063  63.108049  8020.953296        0\n",
       "3         4  42709.534201  45.751972  6103.642260        0\n",
       "4         5  66952.688845  18.584336  8770.099235        1"
      ]
     },
     "execution_count": 4,
     "metadata": {},
     "output_type": "execute_result"
    }
   ],
   "source": [
    "base.head()"
   ]
  },
  {
   "cell_type": "code",
   "execution_count": 5,
   "metadata": {},
   "outputs": [
    {
     "name": "stdout",
     "output_type": "stream",
     "text": [
      "<class 'pandas.core.frame.DataFrame'>\n",
      "RangeIndex: 2000 entries, 0 to 1999\n",
      "Data columns (total 5 columns):\n",
      " #   Column    Non-Null Count  Dtype  \n",
      "---  ------    --------------  -----  \n",
      " 0   clientid  2000 non-null   int64  \n",
      " 1   income    2000 non-null   float64\n",
      " 2   age       1997 non-null   float64\n",
      " 3   loan      2000 non-null   float64\n",
      " 4   default   2000 non-null   int64  \n",
      "dtypes: float64(3), int64(2)\n",
      "memory usage: 78.2 KB\n"
     ]
    }
   ],
   "source": [
    "base.info()"
   ]
  },
  {
   "cell_type": "code",
   "execution_count": 6,
   "metadata": {},
   "outputs": [
    {
     "data": {
      "text/plain": [
       "(2000, 5)"
      ]
     },
     "execution_count": 6,
     "metadata": {},
     "output_type": "execute_result"
    }
   ],
   "source": [
    "base.shape"
   ]
  },
  {
   "cell_type": "code",
   "execution_count": 7,
   "metadata": {},
   "outputs": [
    {
     "data": {
      "text/html": [
       "<div>\n",
       "<style scoped>\n",
       "    .dataframe tbody tr th:only-of-type {\n",
       "        vertical-align: middle;\n",
       "    }\n",
       "\n",
       "    .dataframe tbody tr th {\n",
       "        vertical-align: top;\n",
       "    }\n",
       "\n",
       "    .dataframe thead th {\n",
       "        text-align: right;\n",
       "    }\n",
       "</style>\n",
       "<table border=\"1\" class=\"dataframe\">\n",
       "  <thead>\n",
       "    <tr style=\"text-align: right;\">\n",
       "      <th></th>\n",
       "      <th>clientid</th>\n",
       "      <th>income</th>\n",
       "      <th>age</th>\n",
       "      <th>loan</th>\n",
       "      <th>default</th>\n",
       "    </tr>\n",
       "  </thead>\n",
       "  <tbody>\n",
       "    <tr>\n",
       "      <th>count</th>\n",
       "      <td>2000.000000</td>\n",
       "      <td>2000.000000</td>\n",
       "      <td>1997.000000</td>\n",
       "      <td>2000.000000</td>\n",
       "      <td>2000.000000</td>\n",
       "    </tr>\n",
       "    <tr>\n",
       "      <th>mean</th>\n",
       "      <td>1000.500000</td>\n",
       "      <td>45331.600018</td>\n",
       "      <td>40.807559</td>\n",
       "      <td>4444.369695</td>\n",
       "      <td>0.141500</td>\n",
       "    </tr>\n",
       "    <tr>\n",
       "      <th>std</th>\n",
       "      <td>577.494589</td>\n",
       "      <td>14326.327119</td>\n",
       "      <td>13.624469</td>\n",
       "      <td>3045.410024</td>\n",
       "      <td>0.348624</td>\n",
       "    </tr>\n",
       "    <tr>\n",
       "      <th>min</th>\n",
       "      <td>1.000000</td>\n",
       "      <td>20014.489470</td>\n",
       "      <td>-52.423280</td>\n",
       "      <td>1.377630</td>\n",
       "      <td>0.000000</td>\n",
       "    </tr>\n",
       "    <tr>\n",
       "      <th>25%</th>\n",
       "      <td>500.750000</td>\n",
       "      <td>32796.459717</td>\n",
       "      <td>28.990415</td>\n",
       "      <td>1939.708847</td>\n",
       "      <td>0.000000</td>\n",
       "    </tr>\n",
       "    <tr>\n",
       "      <th>50%</th>\n",
       "      <td>1000.500000</td>\n",
       "      <td>45789.117313</td>\n",
       "      <td>41.317159</td>\n",
       "      <td>3974.719419</td>\n",
       "      <td>0.000000</td>\n",
       "    </tr>\n",
       "    <tr>\n",
       "      <th>75%</th>\n",
       "      <td>1500.250000</td>\n",
       "      <td>57791.281668</td>\n",
       "      <td>52.587040</td>\n",
       "      <td>6432.410625</td>\n",
       "      <td>0.000000</td>\n",
       "    </tr>\n",
       "    <tr>\n",
       "      <th>max</th>\n",
       "      <td>2000.000000</td>\n",
       "      <td>69995.685578</td>\n",
       "      <td>63.971796</td>\n",
       "      <td>13766.051239</td>\n",
       "      <td>1.000000</td>\n",
       "    </tr>\n",
       "  </tbody>\n",
       "</table>\n",
       "</div>"
      ],
      "text/plain": [
       "          clientid        income          age          loan      default\n",
       "count  2000.000000   2000.000000  1997.000000   2000.000000  2000.000000\n",
       "mean   1000.500000  45331.600018    40.807559   4444.369695     0.141500\n",
       "std     577.494589  14326.327119    13.624469   3045.410024     0.348624\n",
       "min       1.000000  20014.489470   -52.423280      1.377630     0.000000\n",
       "25%     500.750000  32796.459717    28.990415   1939.708847     0.000000\n",
       "50%    1000.500000  45789.117313    41.317159   3974.719419     0.000000\n",
       "75%    1500.250000  57791.281668    52.587040   6432.410625     0.000000\n",
       "max    2000.000000  69995.685578    63.971796  13766.051239     1.000000"
      ]
     },
     "execution_count": 7,
     "metadata": {},
     "output_type": "execute_result"
    }
   ],
   "source": [
    "base.describe()"
   ]
  },
  {
   "cell_type": "code",
   "execution_count": 8,
   "metadata": {},
   "outputs": [],
   "source": [
    "def validate_data(df):\n",
    "    \"\"\"\n",
    "    Valida os dados antes de armazená-los.\n",
    "    \"\"\"\n",
    "    issues = []\n",
    "\n",
    "    # Verifica valores negativos\n",
    "    if (df['age'] < 0).any():\n",
    "        issues.append(\"Existem valores negativos na coluna 'age'.\")\n",
    "    \n",
    "    # Verifica valores nulos\n",
    "    if df.isnull().sum().sum() > 0:\n",
    "        issues.append(\"Existem valores ausentes no DataFrame.\")\n",
    "    \n",
    "    # Verifica se o tipo de dado está correto\n",
    "    expected_types = {\n",
    "        'clientid': (int, np.int64),\n",
    "        'income': (float, np.float64),\n",
    "        'age': (float, np.float64),\n",
    "        'loan': (float, np.float64),\n",
    "        'default': (int, np.int64)\n",
    "    }\n",
    "\n",
    "    for column, valid_types in expected_types.items():\n",
    "        if not isinstance(df[column].dtype.type(), valid_types):\n",
    "            issues.append(f\"A coluna '{column}' não está no tipo esperado ({valid_types}).\")\n",
    "    \n",
    "    # Retorna resultados\n",
    "    if issues:\n",
    "        raise ValueError(f\"Erros de validação encontrados: {', '.join(issues)}\")\n",
    "    else:\n",
    "        print(\"Validação concluída com sucesso.\")\n",
    "\n"
   ]
  },
  {
   "cell_type": "code",
   "execution_count": 9,
   "metadata": {},
   "outputs": [
    {
     "name": "stdout",
     "output_type": "stream",
     "text": [
      "Erros de validação encontrados: Existem valores negativos na coluna 'age'., Existem valores ausentes no DataFrame.\n"
     ]
    }
   ],
   "source": [
    "# Validação dos Dados\n",
    "try:\n",
    "    validate_data(base)\n",
    "except ValueError as e:\n",
    "    print(e)\n",
    "    exit(1)"
   ]
  },
  {
   "cell_type": "code",
   "execution_count": 10,
   "metadata": {},
   "outputs": [],
   "source": [
    "# Tratando os Dados\n",
    "base.loc[base['age'] < 0, 'age'] = base['age'].mean()\n",
    "base = base.dropna()"
   ]
  },
  {
   "cell_type": "code",
   "execution_count": 11,
   "metadata": {},
   "outputs": [
    {
     "name": "stdout",
     "output_type": "stream",
     "text": [
      "Validação concluída com sucesso.\n"
     ]
    }
   ],
   "source": [
    "# Validação dos Dados\n",
    "try:\n",
    "    validate_data(base)\n",
    "except ValueError as e:\n",
    "    print(e)\n",
    "    exit(1)"
   ]
  },
  {
   "cell_type": "code",
   "execution_count": 12,
   "metadata": {},
   "outputs": [
    {
     "data": {
      "text/plain": [
       "Index(['clientid', 'income', 'age', 'loan', 'default'], dtype='object')"
      ]
     },
     "execution_count": 12,
     "metadata": {},
     "output_type": "execute_result"
    }
   ],
   "source": [
    "base.columns"
   ]
  },
  {
   "cell_type": "markdown",
   "metadata": {},
   "source": [
    "## Conexão e Manipulação no MongoDB\n",
    "\n",
    "### Função `connection_database`\n",
    "- Estabelece uma conexão com o MongoDB e retorna uma coleção específica.\n",
    "- Limpa o banco anterior para evitar conflitos entre os dados.\n",
    "\n",
    "### Inserção de Registros\n",
    "- Converte o DataFrame em formato de dicionário.\n",
    "- Insere os dados na coleção do MongoDB.\n",
    "\n",
    "### Exibição de Registros\n",
    "- Recupera os registros armazenados na coleção.\n",
    "- Exibe os dados para validação e análise.\n"
   ]
  },
  {
   "cell_type": "code",
   "execution_count": 13,
   "metadata": {},
   "outputs": [],
   "source": [
    "def connection_database(host, port, name_db, name_collection):\n",
    "    try:\n",
    "        client = MongoClient(host, port, serverSelectionTimeoutMS=5000)\n",
    "        # Verifica conexão com o servidor\n",
    "        client.server_info()\n",
    "        client.drop_database(name_db)  # Limpa o banco\n",
    "        db = client[name_db]\n",
    "        collection = db[name_collection]\n",
    "        print(\"Conexão bem-sucedida com o banco de dados.\")\n",
    "        return collection\n",
    "    except Exception as e:\n",
    "        raise ConnectionError(f\"Erro ao conectar ao banco de dados: {e}\")"
   ]
  },
  {
   "cell_type": "code",
   "execution_count": 14,
   "metadata": {},
   "outputs": [
    {
     "name": "stdout",
     "output_type": "stream",
     "text": [
      "Conexão bem-sucedida com o banco de dados.\n"
     ]
    }
   ],
   "source": [
    "# Conexão com MongoDB\n",
    "try:\n",
    "    collection = connection_database('localhost', 27017, 'financas', 'operacoes')\n",
    "except ConnectionError as e:\n",
    "    print(e)\n",
    "    exit(1)"
   ]
  },
  {
   "cell_type": "code",
   "execution_count": 15,
   "metadata": {},
   "outputs": [
    {
     "name": "stdout",
     "output_type": "stream",
     "text": [
      "Registros inseridos com sucesso no MongoDB.\n"
     ]
    }
   ],
   "source": [
    "# Inserção de Dados\n",
    "try:\n",
    "    data = base.to_dict(orient='records')\n",
    "    collection.insert_many(data)\n",
    "    print(\"Registros inseridos com sucesso no MongoDB.\")\n",
    "except Exception as e:\n",
    "    print(f\"Erro ao inserir registros no MongoDB: {e}\")\n",
    "    exit(1)\n"
   ]
  },
  {
   "cell_type": "code",
   "execution_count": 16,
   "metadata": {},
   "outputs": [],
   "source": [
    "def view_records_paginated(collection, page_size=10):\n",
    "    \"\"\"\n",
    "    Exibe registros do MongoDB com paginação.\n",
    "    :param collection: Coleção do MongoDB.\n",
    "    :param page_size: Número de registros por página.\n",
    "    \"\"\"\n",
    "    try:\n",
    "        total_records = collection.count_documents({})\n",
    "        print(f\"Total de registros: {total_records}\")\n",
    "        \n",
    "        # Controle de páginas\n",
    "        for skip in range(0, total_records, page_size):\n",
    "            print(f\"\\nPágina {skip // page_size + 1}:\")\n",
    "            records = collection.find().skip(skip).limit(page_size)\n",
    "            for record in records:\n",
    "                print(record)\n",
    "                \n",
    "            # Pausa para o usuário navegar entre as páginas\n",
    "            user_input = input(\"\\nPressione Enter para continuar para a próxima página ou digite 'exit' para sair...\")\n",
    "            if user_input.lower() == 'exit':\n",
    "                print(\"Execução interrompida pelo usuário.\")\n",
    "                break\n",
    "    except Exception as e:\n",
    "        print(f\"Erro ao exibir registros paginados: {e}\")\n"
   ]
  },
  {
   "cell_type": "code",
   "execution_count": 17,
   "metadata": {},
   "outputs": [
    {
     "name": "stdout",
     "output_type": "stream",
     "text": [
      "Total de registros: 1997\n",
      "\n",
      "Página 1:\n",
      "{'_id': ObjectId('676767ab7c3fd35b3a02348d'), 'clientid': 1, 'income': 66155.9250950813, 'age': 59.0170150669292, 'loan': 8106.53213128514, 'default': 0}\n",
      "{'_id': ObjectId('676767ab7c3fd35b3a02348e'), 'clientid': 2, 'income': 34415.1539658196, 'age': 48.11715310486029, 'loan': 6564.745017677379, 'default': 0}\n",
      "{'_id': ObjectId('676767ab7c3fd35b3a02348f'), 'clientid': 3, 'income': 57317.1700630337, 'age': 63.10804949188599, 'loan': 8020.953296386469, 'default': 0}\n",
      "{'_id': ObjectId('676767ab7c3fd35b3a023490'), 'clientid': 4, 'income': 42709.534200839706, 'age': 45.7519723521546, 'loan': 6103.642260140699, 'default': 0}\n",
      "{'_id': ObjectId('676767ab7c3fd35b3a023491'), 'clientid': 5, 'income': 66952.68884534019, 'age': 18.5843359269202, 'loan': 8770.09923520439, 'default': 1}\n",
      "{'_id': ObjectId('676767ab7c3fd35b3a023492'), 'clientid': 6, 'income': 24904.0641402826, 'age': 57.4716071025468, 'loan': 15.498598437827198, 'default': 0}\n",
      "{'_id': ObjectId('676767ab7c3fd35b3a023493'), 'clientid': 7, 'income': 48430.3596126847, 'age': 26.809132419060894, 'loan': 5722.58198121271, 'default': 0}\n",
      "{'_id': ObjectId('676767ab7c3fd35b3a023494'), 'clientid': 8, 'income': 24500.1419843175, 'age': 32.8975483207032, 'loan': 2971.00330971188, 'default': 1}\n",
      "{'_id': ObjectId('676767ab7c3fd35b3a023495'), 'clientid': 9, 'income': 40654.8925372772, 'age': 55.4968525394797, 'loan': 4755.8252798016, 'default': 0}\n",
      "{'_id': ObjectId('676767ab7c3fd35b3a023496'), 'clientid': 10, 'income': 25075.872770976297, 'age': 39.7763780555688, 'loan': 1409.23037111453, 'default': 0}\n",
      "{'_id': ObjectId('676767ab7c3fd35b3a023497'), 'clientid': 11, 'income': 64131.4153722487, 'age': 25.679575353860898, 'loan': 4351.0289707232505, 'default': 0}\n",
      "{'_id': ObjectId('676767ab7c3fd35b3a023498'), 'clientid': 12, 'income': 59436.8471228518, 'age': 60.4719358547591, 'loan': 9254.24453803174, 'default': 0}\n",
      "{'_id': ObjectId('676767ab7c3fd35b3a023499'), 'clientid': 13, 'income': 61050.3460792825, 'age': 26.3550438545644, 'loan': 5893.26465933928, 'default': 0}\n",
      "{'_id': ObjectId('676767ab7c3fd35b3a02349a'), 'clientid': 14, 'income': 27267.9954580963, 'age': 61.576775823254096, 'loan': 4759.7875810455, 'default': 0}\n",
      "{'_id': ObjectId('676767ab7c3fd35b3a02349b'), 'clientid': 15, 'income': 63061.9601742364, 'age': 39.2015528911725, 'loan': 1850.36937703064, 'default': 0}\n",
      "{'_id': ObjectId('676767ab7c3fd35b3a02349c'), 'clientid': 16, 'income': 50501.7266888171, 'age': 40.80755937840458, 'loan': 3977.28743247384, 'default': 0}\n",
      "{'_id': ObjectId('676767ab7c3fd35b3a02349d'), 'clientid': 17, 'income': 43548.6547113396, 'age': 39.5745303500444, 'loan': 3935.5444533423497, 'default': 0}\n",
      "{'_id': ObjectId('676767ab7c3fd35b3a02349e'), 'clientid': 18, 'income': 43378.1751943752, 'age': 60.84831793932239, 'loan': 3277.7375531263, 'default': 0}\n",
      "{'_id': ObjectId('676767ab7c3fd35b3a02349f'), 'clientid': 19, 'income': 20542.365072760706, 'age': 61.6905707078986, 'loan': 3157.442289970661, 'default': 0}\n",
      "{'_id': ObjectId('676767ab7c3fd35b3a0234a0'), 'clientid': 20, 'income': 58887.3575488105, 'age': 26.076093018055, 'loan': 4965.51606626419, 'default': 0}\n",
      "Execução interrompida pelo usuário.\n"
     ]
    }
   ],
   "source": [
    "# Chamada para exibir registros com paginação\n",
    "view_records_paginated(collection, page_size=20)"
   ]
  },
  {
   "cell_type": "markdown",
   "metadata": {},
   "source": [
    "## Pré-processamento dos Dados\n",
    "\n",
    "### Limpeza dos Dados\n",
    "- Remove valores inválidos, como idades negativas, substituindo-os pela média.\n",
    "- Descarta valores ausentes utilizando o método `dropna()`.\n",
    "\n",
    "### Separação de Variáveis\n",
    "- Divide os dados em:\n",
    "  - `X`: Variáveis independentes.\n",
    "  - `y`: Variável alvo.\n",
    "\n",
    "### Normalização\n",
    "- Escala as variáveis independentes (`X`) para o intervalo `[0, 1]` utilizando o **MinMaxScaler**.\n"
   ]
  },
  {
   "cell_type": "code",
   "execution_count": 18,
   "metadata": {},
   "outputs": [],
   "source": [
    "dados = list(collection.find())\n",
    "\n",
    "# Criando o DataFrame\n",
    "df = pd.DataFrame(dados)"
   ]
  },
  {
   "cell_type": "code",
   "execution_count": 19,
   "metadata": {},
   "outputs": [
    {
     "name": "stdout",
     "output_type": "stream",
     "text": [
      "<class 'pandas.core.frame.DataFrame'>\n",
      "RangeIndex: 1997 entries, 0 to 1996\n",
      "Data columns (total 6 columns):\n",
      " #   Column    Non-Null Count  Dtype  \n",
      "---  ------    --------------  -----  \n",
      " 0   _id       1997 non-null   object \n",
      " 1   clientid  1997 non-null   int64  \n",
      " 2   income    1997 non-null   float64\n",
      " 3   age       1997 non-null   float64\n",
      " 4   loan      1997 non-null   float64\n",
      " 5   default   1997 non-null   int64  \n",
      "dtypes: float64(3), int64(2), object(1)\n",
      "memory usage: 93.7+ KB\n"
     ]
    }
   ],
   "source": [
    "df.info()"
   ]
  },
  {
   "cell_type": "code",
   "execution_count": 20,
   "metadata": {},
   "outputs": [],
   "source": [
    "df =df[['clientid', 'income', 'age', 'loan', 'default' ]]"
   ]
  },
  {
   "cell_type": "code",
   "execution_count": 21,
   "metadata": {},
   "outputs": [
    {
     "data": {
      "text/plain": [
       "clientid    0\n",
       "income      0\n",
       "age         0\n",
       "loan        0\n",
       "default     0\n",
       "dtype: int64"
      ]
     },
     "execution_count": 21,
     "metadata": {},
     "output_type": "execute_result"
    }
   ],
   "source": [
    "df.isna().sum()"
   ]
  },
  {
   "cell_type": "code",
   "execution_count": 22,
   "metadata": {},
   "outputs": [
    {
     "data": {
      "text/plain": [
       "1997"
      ]
     },
     "execution_count": 22,
     "metadata": {},
     "output_type": "execute_result"
    }
   ],
   "source": [
    "len(df)"
   ]
  },
  {
   "cell_type": "code",
   "execution_count": 23,
   "metadata": {},
   "outputs": [
    {
     "data": {
      "text/plain": [
       "count    1997.000000\n",
       "mean       40.927520\n",
       "std        13.261826\n",
       "min        18.055189\n",
       "25%        29.072097\n",
       "50%        41.317159\n",
       "75%        52.587040\n",
       "max        63.971796\n",
       "Name: age, dtype: float64"
      ]
     },
     "execution_count": 23,
     "metadata": {},
     "output_type": "execute_result"
    }
   ],
   "source": [
    "df['age'].describe()"
   ]
  },
  {
   "cell_type": "code",
   "execution_count": 24,
   "metadata": {},
   "outputs": [
    {
     "data": {
      "text/plain": [
       "41.3171591130085"
      ]
     },
     "execution_count": 24,
     "metadata": {},
     "output_type": "execute_result"
    }
   ],
   "source": [
    "df['age'].median()"
   ]
  },
  {
   "cell_type": "code",
   "execution_count": 25,
   "metadata": {},
   "outputs": [
    {
     "data": {
      "text/plain": [
       "1997"
      ]
     },
     "execution_count": 25,
     "metadata": {},
     "output_type": "execute_result"
    }
   ],
   "source": [
    "len(df)"
   ]
  },
  {
   "cell_type": "code",
   "execution_count": 26,
   "metadata": {},
   "outputs": [],
   "source": [
    "def normalize_data(X):\n",
    "    try:\n",
    "        scaler = MinMaxScaler(feature_range=(0, 1))\n",
    "        X_normalized = scaler.fit_transform(X)\n",
    "        return X_normalized, scaler\n",
    "    except Exception as e:\n",
    "        raise ValueError(f\"Erro durante a normalização dos dados: {e}\")\n"
   ]
  },
  {
   "cell_type": "code",
   "execution_count": 27,
   "metadata": {},
   "outputs": [],
   "source": [
    "# Normalização dos Dados\n",
    "try:\n",
    "    X, y = df.iloc[:, 0:4].values, df.iloc[:, 4].values\n",
    "    X_normalized, scaler = normalize_data(X)\n",
    "except ValueError as e:\n",
    "    print(e)\n",
    "    exit(1)"
   ]
  },
  {
   "cell_type": "markdown",
   "metadata": {},
   "source": [
    "## Treinamento SOM\n",
    "\n",
    "### Inicialização\n",
    "- Cria um **Self-Organizing Map (SOM)** com dimensões `15x15`.\n",
    "- Inicializa os pesos de forma aleatória.\n",
    "\n",
    "### Treinamento\n",
    "- Treina o SOM utilizando os dados normalizados.\n",
    "\n",
    "### Visualização\n",
    "- Plota o mapa de distâncias (`distance map`) para identificar regiões de similaridade.\n",
    "- Marca os clusters no mapa com base na variável alvo para facilitar a interpretação.\n"
   ]
  },
  {
   "cell_type": "code",
   "execution_count": 30,
   "metadata": {},
   "outputs": [],
   "source": [
    "som = MiniSom(x = 15, y = 15, input_len = 4, random_seed = 0)\n",
    "som.random_weights_init(X)\n",
    "som.train_random(data = X, num_iteration = 100)"
   ]
  },
  {
   "cell_type": "code",
   "execution_count": 31,
   "metadata": {},
   "outputs": [
    {
     "data": {
      "text/plain": [
       "<matplotlib.colorbar.Colorbar at 0x23cd7d4dbb0>"
      ]
     },
     "execution_count": 31,
     "metadata": {},
     "output_type": "execute_result"
    },
    {
     "data": {
      "image/png": "[encoded data removed]",
      "text/plain": [
       "<Figure size 640x480 with 2 Axes>"
      ]
     },
     "metadata": {},
     "output_type": "display_data"
    }
   ],
   "source": [
    "pcolor(som.distance_map().T)\n",
    "colorbar()\n"
   ]
  },
  {
   "cell_type": "code",
   "execution_count": 32,
   "metadata": {},
   "outputs": [
    {
     "data": {
      "image/png": "[encoded data removed]",
      "text/plain": [
       "<Figure size 1000x800 with 2 Axes>"
      ]
     },
     "metadata": {},
     "output_type": "display_data"
    }
   ],
   "source": [
    "# Visualização do mapa de distâncias do SOM\n",
    "def plot_som(som, X, y):\n",
    "    plt.figure(figsize=(10, 8))\n",
    "    \n",
    "    # Mapa de distâncias\n",
    "    plt.subplot(1, 1, 1)\n",
    "    plt.title(\"Mapa de Distâncias do SOM\")\n",
    "    plt.imshow(som.distance_map().T, cmap='Blues')  # Mapa de distâncias usando colormap 'Blues'\n",
    "    plt.colorbar()\n",
    "\n",
    "    # Marcação dos pontos no mapa com cores diferentes para classes\n",
    "    markers = ['o', 's']\n",
    "    colors = ['r', 'g']\n",
    "    \n",
    "    for i, x in enumerate(X):\n",
    "        w = som.winner(x)\n",
    "        plt.plot(w[0] + 0.5, w[1] + 0.5, markers[y[i]], \n",
    "                 markerfacecolor='None', markersize=10, \n",
    "                 markeredgecolor=colors[y[i]], markeredgewidth=2)\n",
    "    \n",
    "    plt.show()\n",
    "\n",
    "# Chamada para exibir o gráfico\n",
    "plot_som(som, X, y)"
   ]
  },
  {
   "cell_type": "markdown",
   "metadata": {},
   "source": [
    "## Identificação de Suspeitos\n",
    "\n",
    "### Identificação de Clusters\n",
    "- Analisa padrões suspeitos em células específicas do SOM para agrupar comportamentos similares.\n",
    "\n",
    "### Reconstrução e Classificação\n",
    "- **Denormaliza os dados** para restaurar os valores originais.\n",
    "- Associa os valores às respectivas classes (ex.: `default`).\n",
    "- Ordena os resultados para priorizar os casos mais críticos.\n",
    "- Cria o conjunto final de suspeitos para análise detalhada.\n"
   ]
  },
  {
   "cell_type": "code",
   "execution_count": 33,
   "metadata": {},
   "outputs": [],
   "source": [
    "mapeamento = som.win_map(X)\n",
    "suspeitos = np.concatenate((mapeamento[(13,9)], mapeamento[(1,10)]), axis = 0)\n",
    "suspeitos = normalizador.inverse_transform(suspeitos)"
   ]
  },
  {
   "cell_type": "code",
   "execution_count": 34,
   "metadata": {},
   "outputs": [],
   "source": [
    "classe = []\n",
    "for i in range(len(base)):\n",
    "    for j in range(len(suspeitos)):\n",
    "       if base.iloc[i, 0] == int(round(suspeitos[j,0])):\n",
    "           classe.append(base.iloc[i,4])\n",
    "classe = np.asarray(classe)\n"
   ]
  },
  {
   "cell_type": "code",
   "execution_count": 35,
   "metadata": {},
   "outputs": [],
   "source": [
    "suspeitos_final = np.column_stack((suspeitos, classe))\n",
    "suspeitos_final = suspeitos_final[suspeitos_final[:, 4].argsort()]"
   ]
  },
  {
   "cell_type": "code",
   "execution_count": 36,
   "metadata": {},
   "outputs": [
    {
     "data": {
      "text/plain": [
       "array([[1.01000000e+02, 5.14610532e+04, 3.66515586e+01, 7.29226418e+03,\n",
       "        0.00000000e+00],\n",
       "       [3.13000000e+02, 5.14550985e+04, 3.72856837e+01, 9.44711716e+03,\n",
       "        0.00000000e+00],\n",
       "       [1.05500000e+03, 2.48207925e+04, 3.82440169e+01, 5.19492428e+01,\n",
       "        0.00000000e+00],\n",
       "       [1.16400000e+03, 3.09611661e+04, 3.21142866e+01, 1.62795596e+02,\n",
       "        0.00000000e+00],\n",
       "       [1.17200000e+03, 3.00372031e+04, 3.86849202e+01, 1.24701279e+03,\n",
       "        0.00000000e+00],\n",
       "       [1.20000000e+03, 2.62675294e+04, 3.44963862e+01, 5.94691634e+01,\n",
       "        0.00000000e+00],\n",
       "       [1.21500000e+03, 2.68671083e+04, 3.26222996e+01, 1.73015191e+03,\n",
       "        0.00000000e+00],\n",
       "       [1.24800000e+03, 3.17227309e+04, 3.48518173e+01, 2.87775610e+03,\n",
       "        0.00000000e+00],\n",
       "       [1.32200000e+03, 3.69703604e+04, 3.37045991e+01, 1.26850638e+03,\n",
       "        0.00000000e+00],\n",
       "       [1.37400000e+03, 3.13968660e+04, 3.49966814e+01, 3.71923013e+03,\n",
       "        0.00000000e+00],\n",
       "       [1.54000000e+03, 3.64554847e+04, 3.52603407e+01, 2.46416232e+03,\n",
       "        0.00000000e+00],\n",
       "       [1.78000000e+02, 5.00728476e+04, 3.30152727e+01, 8.08856802e+03,\n",
       "        1.00000000e+00],\n",
       "       [1.13700000e+03, 2.87269963e+04, 3.47514378e+01, 3.67583341e+03,\n",
       "        1.00000000e+00],\n",
       "       [1.22600000e+03, 2.60782136e+04, 3.18068807e+01, 3.66588090e+03,\n",
       "        1.00000000e+00],\n",
       "       [1.28900000e+03, 3.08840567e+04, 3.12778619e+01, 4.09990205e+03,\n",
       "        1.00000000e+00]])"
      ]
     },
     "execution_count": 36,
     "metadata": {},
     "output_type": "execute_result"
    }
   ],
   "source": [
    "suspeitos_final"
   ]
  },
  {
   "cell_type": "code",
   "execution_count": 37,
   "metadata": {},
   "outputs": [
    {
     "name": "stdout",
     "output_type": "stream",
     "text": [
      "Resultados dos suspeitos salvos em 'suspeitos.csv'.\n"
     ]
    }
   ],
   "source": [
    "# Salvando os resultados dos suspeitos em um arquivo CSV\n",
    "suspeitos_final_df = pd.DataFrame(suspeitos_final, columns=['clientid', 'income', 'age', 'loan', 'default'])\n",
    "suspeitos_final_df.to_csv('suspeitos.csv', index=False)\n",
    "\n",
    "print(\"Resultados dos suspeitos salvos em 'suspeitos.csv'.\")"
   ]
  },
  {
   "cell_type": "code",
   "execution_count": 38,
   "metadata": {},
   "outputs": [],
   "source": [
    "# Criando um gráfico interativo de dispersão\n",
    "def plot_suspeitos_interativo(suspeitos_final):\n",
    "    suspeitos_df = pd.DataFrame(suspeitos_final, columns=['clientid', 'income', 'age', 'loan', 'default'])\n",
    "    \n",
    "    # Gráfico de dispersão interativo\n",
    "    fig = px.scatter(suspeitos_df, x='age', y='income', color='default', \n",
    "                     labels={'default': 'Classe (0: Não suspeito, 1: Suspeito)'},\n",
    "                     title=\"Dispersão dos Suspeitos\")\n",
    "    \n",
    "    fig.update_layout(\n",
    "        xaxis_title=\"Idade\",\n",
    "        yaxis_title=\"Renda\",\n",
    "        legend_title=\"Classe\",\n",
    "        template=\"plotly_dark\"  # Usando tema dark para o gráfico\n",
    "    )\n",
    "    \n",
    "    fig.show()\n",
    "\n"
   ]
  },
  {
   "cell_type": "code",
   "execution_count": 39,
   "metadata": {},
   "outputs": [
    {
     "data": {
      "application/vnd.plotly.v1+json": {
       "config": {
        "plotlyServerURL": "https://plot.ly"
       },
       "data": [
        {
         "hovertemplate": "age=%{x}<br>income=%{y}<br>Classe (0: Não suspeito, 1: Suspeito)=%{marker.color}<extra></extra>",
         "legendgroup": "",
         "marker": {
          "color": [
           0,
           0,
           0,
           0,
           0,
           0,
           0,
           0,
           0,
           0,
           0,
           1,
           1,
           1,
           1
          ],
          "coloraxis": "coloraxis",
          "symbol": "circle"
         },
         "mode": "markers",
         "name": "",
         "orientation": "v",
         "showlegend": false,
         "type": "scatter",
         "x": [
          36.6515586250462,
          37.2856837031431,
          38.24401685083279,
          32.1142866155133,
          38.6849202262238,
          34.4963862220757,
          32.622299618087695,
          34.851817262359,
          33.7045991150662,
          34.9966813726351,
          35.260340718086795,
          33.0152727491222,
          34.7514377613552,
          31.806880658492403,
          31.2778618824668
         ],
         "xaxis": "x",
         "y": [
          51461.0531670041,
          51455.0984534435,
          24820.7924701273,
          30961.166140623398,
          30037.203133106203,
          26267.5294233486,
          26867.1082612127,
          31722.7309499867,
          36970.3604420647,
          31396.8660123646,
          36455.4847055115,
          50072.8476257063,
          28726.9962998107,
          26078.2135813497,
          30884.0567292646
         ],
         "yaxis": "y"
        }
       ],
       "layout": {
        "coloraxis": {
         "colorbar": {
          "title": {
           "text": "Classe (0: Não suspeito, 1: Suspeito)"
          }
         },
         "colorscale": [
          [
           0,
           "#0d0887"
          ],
          [
           0.1111111111111111,
           "#46039f"
          ],
          [
           0.2222222222222222,
           "#7201a8"
          ],
          [
           0.3333333333333333,
           "#9c179e"
          ],
          [
           0.4444444444444444,
           "#bd3786"
          ],
          [
           0.5555555555555556,
           "#d8576b"
          ],
          [
           0.6666666666666666,
           "#ed7953"
          ],
          [
           0.7777777777777778,
           "#fb9f3a"
          ],
          [
           0.8888888888888888,
           "#fdca26"
          ],
          [
           1,
           "#f0f921"
          ]
         ]
        },
        "legend": {
         "title": {
          "text": "Classe"
         },
         "tracegroupgap": 0
        },
        "template": {
         "data": {
          "bar": [
           {
            "error_x": {
             "color": "#f2f5fa"
            },
            "error_y": {
             "color": "#f2f5fa"
            },
            "marker": {
             "line": {
              "color": "rgb(17,17,17)",
              "width": 0.5
             },
             "pattern": {
              "fillmode": "overlay",
              "size": 10,
              "solidity": 0.2
             }
            },
            "type": "bar"
           }
          ],
          "barpolar": [
           {
            "marker": {
             "line": {
              "color": "rgb(17,17,17)",
              "width": 0.5
             },
             "pattern": {
              "fillmode": "overlay",
              "size": 10,
              "solidity": 0.2
             }
            },
            "type": "barpolar"
           }
          ],
          "carpet": [
           {
            "aaxis": {
             "endlinecolor": "#A2B1C6",
             "gridcolor": "#506784",
             "linecolor": "#506784",
             "minorgridcolor": "#506784",
             "startlinecolor": "#A2B1C6"
            },
            "baxis": {
             "endlinecolor": "#A2B1C6",
             "gridcolor": "#506784",
             "linecolor": "#506784",
             "minorgridcolor": "#506784",
             "startlinecolor": "#A2B1C6"
            },
            "type": "carpet"
           }
          ],
          "choropleth": [
           {
            "colorbar": {
             "outlinewidth": 0,
             "ticks": ""
            },
            "type": "choropleth"
           }
          ],
          "contour": [
           {
            "colorbar": {
             "outlinewidth": 0,
             "ticks": ""
            },
            "colorscale": [
             [
              0,
              "#0d0887"
             ],
             [
              0.1111111111111111,
              "#46039f"
             ],
             [
              0.2222222222222222,
              "#7201a8"
             ],
             [
              0.3333333333333333,
              "#9c179e"
             ],
             [
              0.4444444444444444,
              "#bd3786"
             ],
             [
              0.5555555555555556,
              "#d8576b"
             ],
             [
              0.6666666666666666,
              "#ed7953"
             ],
             [
              0.7777777777777778,
              "#fb9f3a"
             ],
             [
              0.8888888888888888,
              "#fdca26"
             ],
             [
              1,
              "#f0f921"
             ]
            ],
            "type": "contour"
           }
          ],
          "contourcarpet": [
           {
            "colorbar": {
             "outlinewidth": 0,
             "ticks": ""
            },
            "type": "contourcarpet"
           }
          ],
          "heatmap": [
           {
            "colorbar": {
             "outlinewidth": 0,
             "ticks": ""
            },
            "colorscale": [
             [
              0,
              "#0d0887"
             ],
             [
              0.1111111111111111,
              "#46039f"
             ],
             [
              0.2222222222222222,
              "#7201a8"
             ],
             [
              0.3333333333333333,
              "#9c179e"
             ],
             [
              0.4444444444444444,
              "#bd3786"
             ],
             [
              0.5555555555555556,
              "#d8576b"
             ],
             [
              0.6666666666666666,
              "#ed7953"
             ],
             [
              0.7777777777777778,
              "#fb9f3a"
             ],
             [
              0.8888888888888888,
              "#fdca26"
             ],
             [
              1,
              "#f0f921"
             ]
            ],
            "type": "heatmap"
           }
          ],
          "heatmapgl": [
           {
            "colorbar": {
             "outlinewidth": 0,
             "ticks": ""
            },
            "colorscale": [
             [
              0,
              "#0d0887"
             ],
             [
              0.1111111111111111,
              "#46039f"
             ],
             [
              0.2222222222222222,
              "#7201a8"
             ],
             [
              0.3333333333333333,
              "#9c179e"
             ],
             [
              0.4444444444444444,
              "#bd3786"
             ],
             [
              0.5555555555555556,
              "#d8576b"
             ],
             [
              0.6666666666666666,
              "#ed7953"
             ],
             [
              0.7777777777777778,
              "#fb9f3a"
             ],
             [
              0.8888888888888888,
              "#fdca26"
             ],
             [
              1,
              "#f0f921"
             ]
            ],
            "type": "heatmapgl"
           }
          ],
          "histogram": [
           {
            "marker": {
             "pattern": {
              "fillmode": "overlay",
              "size": 10,
              "solidity": 0.2
             }
            },
            "type": "histogram"
           }
          ],
          "histogram2d": [
           {
            "colorbar": {
             "outlinewidth": 0,
             "ticks": ""
            },
            "colorscale": [
             [
              0,
              "#0d0887"
             ],
             [
              0.1111111111111111,
              "#46039f"
             ],
             [
              0.2222222222222222,
              "#7201a8"
             ],
             [
              0.3333333333333333,
              "#9c179e"
             ],
             [
              0.4444444444444444,
              "#bd3786"
             ],
             [
              0.5555555555555556,
              "#d8576b"
             ],
             [
              0.6666666666666666,
              "#ed7953"
             ],
             [
              0.7777777777777778,
              "#fb9f3a"
             ],
             [
              0.8888888888888888,
              "#fdca26"
             ],
             [
              1,
              "#f0f921"
             ]
            ],
            "type": "histogram2d"
           }
          ],
          "histogram2dcontour": [
           {
            "colorbar": {
             "outlinewidth": 0,
             "ticks": ""
            },
            "colorscale": [
             [
              0,
              "#0d0887"
             ],
             [
              0.1111111111111111,
              "#46039f"
             ],
             [
              0.2222222222222222,
              "#7201a8"
             ],
             [
              0.3333333333333333,
              "#9c179e"
             ],
             [
              0.4444444444444444,
              "#bd3786"
             ],
             [
              0.5555555555555556,
              "#d8576b"
             ],
             [
              0.6666666666666666,
              "#ed7953"
             ],
             [
              0.7777777777777778,
              "#fb9f3a"
             ],
             [
              0.8888888888888888,
              "#fdca26"
             ],
             [
              1,
              "#f0f921"
             ]
            ],
            "type": "histogram2dcontour"
           }
          ],
          "mesh3d": [
           {
            "colorbar": {
             "outlinewidth": 0,
             "ticks": ""
            },
            "type": "mesh3d"
           }
          ],
          "parcoords": [
           {
            "line": {
             "colorbar": {
              "outlinewidth": 0,
              "ticks": ""
             }
            },
            "type": "parcoords"
           }
          ],
          "pie": [
           {
            "automargin": true,
            "type": "pie"
           }
          ],
          "scatter": [
           {
            "marker": {
             "line": {
              "color": "#283442"
             }
            },
            "type": "scatter"
           }
          ],
          "scatter3d": [
           {
            "line": {
             "colorbar": {
              "outlinewidth": 0,
              "ticks": ""
             }
            },
            "marker": {
             "colorbar": {
              "outlinewidth": 0,
              "ticks": ""
             }
            },
            "type": "scatter3d"
           }
          ],
          "scattercarpet": [
           {
            "marker": {
             "colorbar": {
              "outlinewidth": 0,
              "ticks": ""
             }
            },
            "type": "scattercarpet"
           }
          ],
          "scattergeo": [
           {
            "marker": {
             "colorbar": {
              "outlinewidth": 0,
              "ticks": ""
             }
            },
            "type": "scattergeo"
           }
          ],
          "scattergl": [
           {
            "marker": {
             "line": {
              "color": "#283442"
             }
            },
            "type": "scattergl"
           }
          ],
          "scattermapbox": [
           {
            "marker": {
             "colorbar": {
              "outlinewidth": 0,
              "ticks": ""
             }
            },
            "type": "scattermapbox"
           }
          ],
          "scatterpolar": [
           {
            "marker": {
             "colorbar": {
              "outlinewidth": 0,
              "ticks": ""
             }
            },
            "type": "scatterpolar"
           }
          ],
          "scatterpolargl": [
           {
            "marker": {
             "colorbar": {
              "outlinewidth": 0,
              "ticks": ""
             }
            },
            "type": "scatterpolargl"
           }
          ],
          "scatterternary": [
           {
            "marker": {
             "colorbar": {
              "outlinewidth": 0,
              "ticks": ""
             }
            },
            "type": "scatterternary"
           }
          ],
          "surface": [
           {
            "colorbar": {
             "outlinewidth": 0,
             "ticks": ""
            },
            "colorscale": [
             [
              0,
              "#0d0887"
             ],
             [
              0.1111111111111111,
              "#46039f"
             ],
             [
              0.2222222222222222,
              "#7201a8"
             ],
             [
              0.3333333333333333,
              "#9c179e"
             ],
             [
              0.4444444444444444,
              "#bd3786"
             ],
             [
              0.5555555555555556,
              "#d8576b"
             ],
             [
              0.6666666666666666,
              "#ed7953"
             ],
             [
              0.7777777777777778,
              "#fb9f3a"
             ],
             [
              0.8888888888888888,
              "#fdca26"
             ],
             [
              1,
              "#f0f921"
             ]
            ],
            "type": "surface"
           }
          ],
          "table": [
           {
            "cells": {
             "fill": {
              "color": "#506784"
             },
             "line": {
              "color": "rgb(17,17,17)"
             }
            },
            "header": {
             "fill": {
              "color": "#2a3f5f"
             },
             "line": {
              "color": "rgb(17,17,17)"
             }
            },
            "type": "table"
           }
          ]
         },
         "layout": {
          "annotationdefaults": {
           "arrowcolor": "#f2f5fa",
           "arrowhead": 0,
           "arrowwidth": 1
          },
          "autotypenumbers": "strict",
          "coloraxis": {
           "colorbar": {
            "outlinewidth": 0,
            "ticks": ""
           }
          },
          "colorscale": {
           "diverging": [
            [
             0,
             "#8e0152"
            ],
            [
             0.1,
             "#c51b7d"
            ],
            [
             0.2,
             "#de77ae"
            ],
            [
             0.3,
             "#f1b6da"
            ],
            [
             0.4,
             "#fde0ef"
            ],
            [
             0.5,
             "#f7f7f7"
            ],
            [
             0.6,
             "#e6f5d0"
            ],
            [
             0.7,
             "#b8e186"
            ],
            [
             0.8,
             "#7fbc41"
            ],
            [
             0.9,
             "#4d9221"
            ],
            [
             1,
             "#276419"
            ]
           ],
           "sequential": [
            [
             0,
             "#0d0887"
            ],
            [
             0.1111111111111111,
             "#46039f"
            ],
            [
             0.2222222222222222,
             "#7201a8"
            ],
            [
             0.3333333333333333,
             "#9c179e"
            ],
            [
             0.4444444444444444,
             "#bd3786"
            ],
            [
             0.5555555555555556,
             "#d8576b"
            ],
            [
             0.6666666666666666,
             "#ed7953"
            ],
            [
             0.7777777777777778,
             "#fb9f3a"
            ],
            [
             0.8888888888888888,
             "#fdca26"
            ],
            [
             1,
             "#f0f921"
            ]
           ],
           "sequentialminus": [
            [
             0,
             "#0d0887"
            ],
            [
             0.1111111111111111,
             "#46039f"
            ],
            [
             0.2222222222222222,
             "#7201a8"
            ],
            [
             0.3333333333333333,
             "#9c179e"
            ],
            [
             0.4444444444444444,
             "#bd3786"
            ],
            [
             0.5555555555555556,
             "#d8576b"
            ],
            [
             0.6666666666666666,
             "#ed7953"
            ],
            [
             0.7777777777777778,
             "#fb9f3a"
            ],
            [
             0.8888888888888888,
             "#fdca26"
            ],
            [
             1,
             "#f0f921"
            ]
           ]
          },
          "colorway": [
           "#636efa",
           "#EF553B",
           "#00cc96",
           "#ab63fa",
           "#FFA15A",
           "#19d3f3",
           "#FF6692",
           "#B6E880",
           "#FF97FF",
           "#FECB52"
          ],
          "font": {
           "color": "#f2f5fa"
          },
          "geo": {
           "bgcolor": "rgb(17,17,17)",
           "lakecolor": "rgb(17,17,17)",
           "landcolor": "rgb(17,17,17)",
           "showlakes": true,
           "showland": true,
           "subunitcolor": "#506784"
          },
          "hoverlabel": {
           "align": "left"
          },
          "hovermode": "closest",
          "mapbox": {
           "style": "dark"
          },
          "paper_bgcolor": "rgb(17,17,17)",
          "plot_bgcolor": "rgb(17,17,17)",
          "polar": {
           "angularaxis": {
            "gridcolor": "#506784",
            "linecolor": "#506784",
            "ticks": ""
           },
           "bgcolor": "rgb(17,17,17)",
           "radialaxis": {
            "gridcolor": "#506784",
            "linecolor": "#506784",
            "ticks": ""
           }
          },
          "scene": {
           "xaxis": {
            "backgroundcolor": "rgb(17,17,17)",
            "gridcolor": "#506784",
            "gridwidth": 2,
            "linecolor": "#506784",
            "showbackground": true,
            "ticks": "",
            "zerolinecolor": "#C8D4E3"
           },
           "yaxis": {
            "backgroundcolor": "rgb(17,17,17)",
            "gridcolor": "#506784",
            "gridwidth": 2,
            "linecolor": "#506784",
            "showbackground": true,
            "ticks": "",
            "zerolinecolor": "#C8D4E3"
           },
           "zaxis": {
            "backgroundcolor": "rgb(17,17,17)",
            "gridcolor": "#506784",
            "gridwidth": 2,
            "linecolor": "#506784",
            "showbackground": true,
            "ticks": "",
            "zerolinecolor": "#C8D4E3"
           }
          },
          "shapedefaults": {
           "line": {
            "color": "#f2f5fa"
           }
          },
          "sliderdefaults": {
           "bgcolor": "#C8D4E3",
           "bordercolor": "rgb(17,17,17)",
           "borderwidth": 1,
           "tickwidth": 0
          },
          "ternary": {
           "aaxis": {
            "gridcolor": "#506784",
            "linecolor": "#506784",
            "ticks": ""
           },
           "baxis": {
            "gridcolor": "#506784",
            "linecolor": "#506784",
            "ticks": ""
           },
           "bgcolor": "rgb(17,17,17)",
           "caxis": {
            "gridcolor": "#506784",
            "linecolor": "#506784",
            "ticks": ""
           }
          },
          "title": {
           "x": 0.05
          },
          "updatemenudefaults": {
           "bgcolor": "#506784",
           "borderwidth": 0
          },
          "xaxis": {
           "automargin": true,
           "gridcolor": "#283442",
           "linecolor": "#506784",
           "ticks": "",
           "title": {
            "standoff": 15
           },
           "zerolinecolor": "#283442",
           "zerolinewidth": 2
          },
          "yaxis": {
           "automargin": true,
           "gridcolor": "#283442",
           "linecolor": "#506784",
           "ticks": "",
           "title": {
            "standoff": 15
           },
           "zerolinecolor": "#283442",
           "zerolinewidth": 2
          }
         }
        },
        "title": {
         "text": "Dispersão dos Suspeitos"
        },
        "xaxis": {
         "anchor": "y",
         "domain": [
          0,
          1
         ],
         "title": {
          "text": "Idade"
         }
        },
        "yaxis": {
         "anchor": "x",
         "domain": [
          0,
          1
         ],
         "title": {
          "text": "Renda"
         }
        }
       }
      }
     },
     "metadata": {},
     "output_type": "display_data"
    }
   ],
   "source": [
    "# Chamada para exibir o gráfico interativo\n",
    "plot_suspeitos_interativo(suspeitos_final)"
   ]
  },
  {
   "cell_type": "code",
   "execution_count": 40,
   "metadata": {},
   "outputs": [],
   "source": [
    "app = dash.Dash(__name__)\n",
    "\n",
    "# Convertendo os suspeitos para DataFrame\n",
    "suspeitos_df = pd.DataFrame(suspeitos_final, columns=['clientid', 'income', 'age', 'loan', 'default'])\n",
    "\n",
    "# Criando o gráfico de dispersão com Plotly\n",
    "fig = px.scatter(suspeitos_df, x='age', y='income', color='default', \n",
    "                 labels={'default': 'Classe (0: Não suspeito, 1: Suspeito)'},\n",
    "                 title=\"Dispersão dos Suspeitos\")\n",
    "\n",
    "# Configurando o tema dark para o gráfico\n",
    "fig.update_layout(\n",
    "    template=\"plotly_dark\",  # Aplica o tema dark do Plotly\n",
    "    xaxis_title=\"Idade\",\n",
    "    yaxis_title=\"Renda\",\n",
    "    legend_title=\"Classe\",\n",
    ")\n",
    "\n",
    "# Layout do dashboard com tema dark para a página inteira\n",
    "app.layout = html.Div(style={'backgroundColor': '#333', 'color': 'white', 'padding': '20px', 'height': '100vh'}, children=[\n",
    "    html.H1(\"Dashboard de Análise de Suspeitos\", style={'textAlign': 'center', 'color': 'white'}),\n",
    "    dcc.Graph(figure=fig)\n",
    "])"
   ]
  },
  {
   "cell_type": "code",
   "execution_count": 41,
   "metadata": {},
   "outputs": [
    {
     "data": {
      "text/html": [
       "\n",
       "        <iframe\n",
       "            width=\"100%\"\n",
       "            height=\"650\"\n",
       "            src=\"http://127.0.0.1:8050/\"\n",
       "            frameborder=\"0\"\n",
       "            allowfullscreen\n",
       "            \n",
       "        ></iframe>\n",
       "        "
      ],
      "text/plain": [
       "<IPython.lib.display.IFrame at 0x23cd9ddddf0>"
      ]
     },
     "metadata": {},
     "output_type": "display_data"
    }
   ],
   "source": [
    "### http://127.0.0.1:8050/\n",
    "\n",
    "# Rodando o app\n",
    "if __name__ == '__main__':\n",
    "    app.run_server(debug=False)"
   ]
  }
 ],
 "metadata": {
  "kernelspec": {
   "display_name": "base",
   "language": "python",
   "name": "python3"
  },
  "language_info": {
   "codemirror_mode": {
    "name": "ipython",
    "version": 3
   },
   "file_extension": ".py",
   "mimetype": "text/x-python",
   "name": "python",
   "nbconvert_exporter": "python",
   "pygments_lexer": "ipython3",
   "version": "3.9.19"
  }
 },
 "nbformat": 4,
 "nbformat_minor": 2
}
